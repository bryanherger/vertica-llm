{
 "cells": [
  {
   "cell_type": "code",
   "execution_count": null,
   "id": "0bd96797-1cc7-4a81-8c0a-d80c088572e1",
   "metadata": {},
   "outputs": [],
   "source": [
    "import vanna, pandas as pd, vertica_python as vp, json"
   ]
  },
  {
   "cell_type": "code",
   "execution_count": null,
   "id": "ef65909b-eb07-44d3-a0c2-5f709f88a243",
   "metadata": {},
   "outputs": [],
   "source": [
    "with open('vanna.json') as f:\n",
    "    secrets = json.load(f)\n",
    "    print(secrets['username'])"
   ]
  },
  {
   "cell_type": "code",
   "execution_count": null,
   "id": "9bbc5237-e4a5-4f43-b900-27eca745a264",
   "metadata": {},
   "outputs": [],
   "source": [
    "from vanna.remote import VannaDefault\n",
    "vanna_model_name = 'flighttracker' # Put a unique name here\n",
    "vn = VannaDefault(model=vanna_model_name, api_key=secrets[\"apikey\"])"
   ]
  },
  {
   "cell_type": "code",
   "execution_count": null,
   "id": "04669340-5592-49bf-90ff-2481e5083428",
   "metadata": {},
   "outputs": [],
   "source": [
    "conn_info = {'host': '127.0.0.1',\n",
    "             'port': 5433,\n",
    "             'user': secrets['username'],\n",
    "             'password': secrets['password'],\n",
    "             'database': secrets['database']}\n",
    "conn = vp.connect(**conn_info)\n",
    "def run_sql(sql: str) -> pd.DataFrame:\n",
    "    df = pd.read_sql_query(sql, conn)\n",
    "    return df\n",
    "vn.run_sql = run_sql\n",
    "vn.run_sql_is_set = True\n",
    "df_information_schema = vn.run_sql(\"SELECT 'east1demo' as DATABASE, * FROM V_CATALOG.COLUMNS\")\n",
    "plan = vn.get_training_plan_generic(df_information_schema)\n",
    "plan"
   ]
  },
  {
   "cell_type": "code",
   "execution_count": null,
   "id": "0bcf1036-517c-411a-a5dd-f31df7bd5f5d",
   "metadata": {},
   "outputs": [],
   "source": [
    "vn.ask('what is the average temperature at location like Newark in May?')"
   ]
  },
  {
   "cell_type": "code",
   "execution_count": null,
   "id": "dc596ee6-ef0c-464c-a60f-df70738661aa",
   "metadata": {},
   "outputs": [],
   "source": [
    "vn.ask('what is the daily average temperature at station KEWR in January ordered by date?')"
   ]
  },
  {
   "cell_type": "code",
   "execution_count": null,
   "id": "9ca7ba85-931b-4bad-b2ca-7f1ce4a5f20d",
   "metadata": {},
   "outputs": [],
   "source": []
  }
 ],
 "metadata": {
  "kernelspec": {
   "display_name": "Python 3 (ipykernel)",
   "language": "python",
   "name": "python3"
  },
  "language_info": {
   "codemirror_mode": {
    "name": "ipython",
    "version": 3
   },
   "file_extension": ".py",
   "mimetype": "text/x-python",
   "name": "python",
   "nbconvert_exporter": "python",
   "pygments_lexer": "ipython3",
   "version": "3.9.5"
  }
 },
 "nbformat": 4,
 "nbformat_minor": 5
}
